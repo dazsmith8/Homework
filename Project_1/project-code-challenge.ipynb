{
 "cells": [
  {
   "cell_type": "markdown",
   "metadata": {},
   "source": [
    "<img src=\"http://imgur.com/1ZcRyrc.png\" style=\"float: left; margin: 20px; height: 55px\">\n",
    "\n",
    "# Project 1: Python Coding Exercises\n",
    "\n",
    "_Authors: Joseph Nelson (DC) _\n",
    "\n",
    "---"
   ]
  },
  {
   "cell_type": "markdown",
   "metadata": {},
   "source": [
    "The following code challenges are drawn from common exercises used in technical interviews.\n",
    "\n",
    "Please note that there may be several ways to approach each challenge. If you get stuck, try mapping out your approach in pseudocode first. Finally, while solutions to problems like these may be found online, remember that if you copy/paste code that you can't explain, you'll be missing out on the point of the project. The only way to truly learn a new skill is through practice, trial, and error - we can only help you improve by understanding where you are having trouble."
   ]
  },
  {
   "cell_type": "markdown",
   "metadata": {},
   "source": [
    "### Challenge 1: Largest Palindrome\n",
    "A palindromic number reads the same both ways. For example, 1234321 is a palindrome. The largest palindrome made from the product of two two-digit numbers is 9009 = 91 × 99. Find the largest palindrome made from the product of two three-digit numbers. Afterward, write a brief explanation walking through your code's logic in markdown."
   ]
  },
  {
   "cell_type": "code",
   "execution_count": 2,
   "metadata": {},
   "outputs": [
    {
     "name": "stdout",
     "output_type": "stream",
     "text": [
      "99999\n"
     ]
    }
   ],
   "source": [
    "def largest_palindrome():\n",
    "\tpalindromes = []\n",
    "\tfor X in range(100,1000):\n",
    "\t\tfor Y in range(100,1000):\n",
    "\t\t\thold_string = None\n",
    "\t\t\tstart_number = X*Y\n",
    "\t\t\tstart_number = str(start_number)\n",
    "\t\t\tif (len(start_number) % 2) == 0:\n",
    "\t\t\t\tstring_length = len(start_number)/2\n",
    "\t\t\telse:\n",
    "\t\t\t\tstring_length = ((len(start_number)-1))/2\n",
    "\t\t\tfor i in range(int(string_length)):\n",
    "\t\t\t\tif start_number[i] == start_number[-(i+1)]:\n",
    "\t\t\t\t\thold_string = start_number\n",
    "\t\t\t\telse:\n",
    "\t\t\t\t\thold_string = None\n",
    "\t\t\t\t\tbreak\n",
    "\t\t\tif hold_string != None:\n",
    "\t\t\t\tpalindromes.append(hold_string)\n",
    "\n",
    "\treturn max(palindromes)\n",
    "print (largest_palindrome())\n",
    "#Created two ranges of all 3-digit numbers (100,999)\n",
    "#converted to string and found the length to work with first and last index then compared them\n",
    "#Adds to a list if it continually meets the comparisons\n",
    "#Returns maximum value of list"
   ]
  },
  {
   "cell_type": "markdown",
   "metadata": {},
   "source": [
    "\n",
    "### Challenge 2: Summation of Primes\n",
    "The sum of the primes below 10 is 2 + 3 + 5 + 7 = 17. Find the sum of all the primes below 2,000. Afterward, write a brief explanation walking through your code's logic in markdown."
   ]
  },
  {
   "cell_type": "code",
   "execution_count": 7,
   "metadata": {},
   "outputs": [
    {
     "name": "stdout",
     "output_type": "stream",
     "text": [
      "1713692\n"
     ]
    }
   ],
   "source": [
    "def find_primes():\n",
    "\tprime_list = []\n",
    "\tfor X in range(2,1001):\n",
    "\t\tfor Y in range(2,1001):\n",
    "\t\t\tresult = X*Y\n",
    "\t\t\tif result not in prime_list and result < 2000 and Y!=X:\n",
    "\t\t\t\tprime_list.append(result)\n",
    "\treturn sum(prime_list)\n",
    "\n",
    "print (find_primes())\n",
    "\n",
    "#Created range of numbers to multiply against then append to a list.\n",
    "#return total sum of this list"
   ]
  },
  {
   "cell_type": "markdown",
   "metadata": {},
   "source": [
    "### Challenge 3: Multiples of 3 and 5\n",
    "If we list all of the natural numbers below 10 that are multiples of 3 or 5, we get 3, 5, 6, and 9. The sum of these multiples is 23. Find the sum of all the multiples of 3 and 5 below 1,000. Afterward, write a brief explanation walking through your code's logic in markdown."
   ]
  },
  {
   "cell_type": "code",
   "execution_count": 8,
   "metadata": {},
   "outputs": [
    {
     "name": "stdout",
     "output_type": "stream",
     "text": [
      "232169\n"
     ]
    }
   ],
   "source": [
    "def find_multiples():\n",
    "\tmultiples = []\n",
    "\tfor X in range(333):\n",
    "\t\tresult = 3*X\n",
    "\t\tif result not in multiples:\n",
    "\t\t\tmultiples.append(result)\n",
    "\tfor Y in range(200):\n",
    "\t\tresult = 5*Y\n",
    "\t\tif result not in multiples:\n",
    "\t\t\tmultiples.append(result)\n",
    "\n",
    "\treturn sum(multiples)\n",
    "print (find_multiples())\n",
    "#Finds all multiples of 3 and appends to list. Finds multiples of 5 and apends to list.\n",
    "#Returns total sum of list"
   ]
  },
  {
   "cell_type": "markdown",
   "metadata": {},
   "source": [
    "### Challenge 4: String Compressor\n",
    "Implement a method to perform basic string compression using the counts of repeated characters. (This is called run-length encoding.) For example, the string \"aabcccccaaa\" would become a2b1c5a3. If the “compressed” string would not become smaller than the original string, your method should return the original string. You can assume the string has only uppercase and lowercase letters (a–z). Specify whether your solution is case sensitive or case insensitive and what you would need to change to make it the other. Afterward, write a brief explanation walking through your code's logic in markdown."
   ]
  },
  {
   "cell_type": "code",
   "execution_count": 9,
   "metadata": {},
   "outputs": [
    {
     "name": "stdout",
     "output_type": "stream",
     "text": [
      "a2b1c5a3\n"
     ]
    }
   ],
   "source": [
    "def string_compressor(X):\n",
    "\tnew_string = \"\"\n",
    "\tnew_string = new_string + X[0]\n",
    "\tcounter = 0\n",
    "\tfor i in X:\n",
    "\t\tif i == new_string[-1]:\n",
    "\t\t\tcounter +=1\n",
    "\t\telse:\n",
    "\t\t\tnew_string = new_string + str(counter)\n",
    "\t\t\tnew_string = new_string + i\n",
    "\t\t\tcounter = 1\n",
    "\tnew_string = new_string + str(counter)\n",
    "\tif len(new_string) > len(X):\n",
    "\t\treturn X\n",
    "\telse:\n",
    "\t\treturn new_string\n",
    "\n",
    "print (string_compressor(\"aabcccccaaa\"))\n",
    "\n",
    "#add first character to string then counter as 1. Counter increases with each count of same character.\n",
    "#If the character changes it adds the count of the previous character to the string.\n",
    "#the final count by the end of the string is added."
   ]
  },
  {
   "cell_type": "markdown",
   "metadata": {},
   "source": [
    "### *BONUS* Challenge: FizzBuzz\n",
    "Write a program that prints all of the numbers from 1 to 100. For multiples of 3, instead of the number, print \"Fizz;\" for multiples of 5, print \"Buzz.\" For numbers that are multiples of both 3 and 5, print \"FizzBuzz.\" Afterward, write a brief explanation walking through your code's logic in markdown."
   ]
  },
  {
   "cell_type": "code",
   "execution_count": 11,
   "metadata": {},
   "outputs": [
    {
     "name": "stdout",
     "output_type": "stream",
     "text": [
      "FIZZBUZZ\n",
      "1\n",
      "2\n",
      "FIZZ\n",
      "3\n",
      "4\n",
      "BUZZ\n",
      "5\n",
      "FIZZ\n",
      "6\n",
      "7\n",
      "8\n",
      "FIZZ\n",
      "9\n",
      "BUZZ\n",
      "10\n",
      "11\n",
      "FIZZ\n",
      "12\n",
      "13\n",
      "14\n",
      "FIZZBUZZ\n",
      "16\n",
      "17\n",
      "FIZZ\n",
      "18\n",
      "19\n",
      "BUZZ\n",
      "20\n",
      "FIZZ\n",
      "21\n",
      "22\n",
      "23\n",
      "FIZZ\n",
      "24\n",
      "BUZZ\n",
      "25\n",
      "26\n",
      "FIZZ\n",
      "27\n",
      "28\n",
      "29\n",
      "FIZZBUZZ\n",
      "31\n",
      "32\n",
      "FIZZ\n",
      "33\n",
      "34\n",
      "BUZZ\n",
      "35\n",
      "FIZZ\n",
      "36\n",
      "37\n",
      "38\n",
      "FIZZ\n",
      "39\n",
      "BUZZ\n",
      "40\n",
      "41\n",
      "FIZZ\n",
      "42\n",
      "43\n",
      "44\n",
      "FIZZBUZZ\n",
      "46\n",
      "47\n",
      "FIZZ\n",
      "48\n",
      "49\n",
      "BUZZ\n",
      "50\n",
      "FIZZ\n",
      "51\n",
      "52\n",
      "53\n",
      "FIZZ\n",
      "54\n",
      "BUZZ\n",
      "55\n",
      "56\n",
      "FIZZ\n",
      "57\n",
      "58\n",
      "59\n",
      "FIZZBUZZ\n",
      "61\n",
      "62\n",
      "FIZZ\n",
      "63\n",
      "64\n",
      "BUZZ\n",
      "65\n",
      "FIZZ\n",
      "66\n",
      "67\n",
      "68\n",
      "FIZZ\n",
      "69\n",
      "BUZZ\n",
      "70\n",
      "71\n",
      "FIZZ\n",
      "72\n",
      "73\n",
      "74\n",
      "FIZZBUZZ\n",
      "76\n",
      "77\n",
      "FIZZ\n",
      "78\n",
      "79\n",
      "BUZZ\n",
      "80\n",
      "FIZZ\n",
      "81\n",
      "82\n",
      "83\n",
      "FIZZ\n",
      "84\n",
      "BUZZ\n",
      "85\n",
      "86\n",
      "FIZZ\n",
      "87\n",
      "88\n",
      "89\n",
      "FIZZBUZZ\n",
      "91\n",
      "92\n",
      "FIZZ\n",
      "93\n",
      "94\n",
      "BUZZ\n",
      "95\n",
      "FIZZ\n",
      "96\n",
      "97\n",
      "98\n",
      "FIZZ\n",
      "99\n"
     ]
    }
   ],
   "source": [
    "def fizz_buzz():\n",
    "\tfor i in range(100):\n",
    "\t\tif i % 3 == 0 and i % 5 != 0:\n",
    "\t\t\tprint (\"FIZZ\")\n",
    "\t\tif i % 3 !=0 and i % 5 == 0:\n",
    "\t\t\tprint (\"BUZZ\")\n",
    "\t\tif i % 3 == 0 and i % 5 == 0:\n",
    "\t\t\tprint (\"FIZZBUZZ\")\n",
    "\t\telse:\n",
    "\t\t\tprint (i)\n",
    "\n",
    "fizz_buzz()\n",
    "#Created a range of 1-100\n",
    "#used for loop and modulo to determine if divisible by 3 or 5\n",
    "#prints out respective word respective to condition"
   ]
  }
 ],
 "metadata": {
  "anaconda-cloud": {},
  "kernelspec": {
   "display_name": "Python 3",
   "language": "python",
   "name": "python3"
  },
  "language_info": {
   "codemirror_mode": {
    "name": "ipython",
    "version": 3
   },
   "file_extension": ".py",
   "mimetype": "text/x-python",
   "name": "python",
   "nbconvert_exporter": "python",
   "pygments_lexer": "ipython3",
   "version": "3.7.0"
  }
 },
 "nbformat": 4,
 "nbformat_minor": 2
}
