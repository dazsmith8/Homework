{
 "cells": [
  {
   "cell_type": "code",
   "execution_count": 99,
   "metadata": {},
   "outputs": [],
   "source": [
    "import pandas as pd\n",
    "import numpy as np\n",
    "import matplotlib.pyplot as plt\n",
    "import seaborn as sns\n",
    "from sklearn.linear_model import LinearRegression\n",
    "from sklearn.ensemble import RandomForestRegressor\n",
    "\n",
    "# Display plots in-notebook\n",
    "%matplotlib inline"
   ]
  },
  {
   "cell_type": "code",
   "execution_count": 316,
   "metadata": {
    "scrolled": true
   },
   "outputs": [
    {
     "name": "stderr",
     "output_type": "stream",
     "text": [
      "/home/daz/anaconda3/lib/python3.7/site-packages/IPython/core/interactiveshell.py:2785: DtypeWarning: Columns (7,16,62,64,65,67,68,78) have mixed types. Specify dtype option on import or set low_memory=False.\n",
      "  interactivity=interactivity, compiler=compiler, result=result)\n"
     ]
    }
   ],
   "source": [
    "df = pd.read_csv('database.csv')"
   ]
  },
  {
   "cell_type": "code",
   "execution_count": 317,
   "metadata": {},
   "outputs": [
    {
     "data": {
      "text/plain": [
       "(38113, 81)"
      ]
     },
     "execution_count": 317,
     "metadata": {},
     "output_type": "execute_result"
    }
   ],
   "source": [
    "df.shape"
   ]
  },
  {
   "cell_type": "code",
   "execution_count": 318,
   "metadata": {},
   "outputs": [
    {
     "data": {
      "text/html": [
       "<div>\n",
       "<style scoped>\n",
       "    .dataframe tbody tr th:only-of-type {\n",
       "        vertical-align: middle;\n",
       "    }\n",
       "\n",
       "    .dataframe tbody tr th {\n",
       "        vertical-align: top;\n",
       "    }\n",
       "\n",
       "    .dataframe thead th {\n",
       "        text-align: right;\n",
       "    }\n",
       "</style>\n",
       "<table border=\"1\" class=\"dataframe\">\n",
       "  <thead>\n",
       "    <tr style=\"text-align: right;\">\n",
       "      <th></th>\n",
       "      <th>Vehicle ID</th>\n",
       "      <th>Year</th>\n",
       "      <th>Make</th>\n",
       "      <th>Model</th>\n",
       "      <th>Class</th>\n",
       "      <th>Drive</th>\n",
       "      <th>Transmission</th>\n",
       "      <th>Transmission Descriptor</th>\n",
       "      <th>Engine Index</th>\n",
       "      <th>Engine Descriptor</th>\n",
       "      <th>...</th>\n",
       "      <th>Hours to Charge (AC 240V)</th>\n",
       "      <th>Composite City MPG</th>\n",
       "      <th>Composite Highway MPG</th>\n",
       "      <th>Composite Combined MPG</th>\n",
       "      <th>Range (FT1)</th>\n",
       "      <th>City Range (FT1)</th>\n",
       "      <th>Highway Range (FT1)</th>\n",
       "      <th>Range (FT2)</th>\n",
       "      <th>City Range (FT2)</th>\n",
       "      <th>Highway Range (FT2)</th>\n",
       "    </tr>\n",
       "  </thead>\n",
       "  <tbody>\n",
       "    <tr>\n",
       "      <th>0</th>\n",
       "      <td>26587</td>\n",
       "      <td>1984</td>\n",
       "      <td>Alfa Romeo</td>\n",
       "      <td>GT V6 2.5</td>\n",
       "      <td>Minicompact Cars</td>\n",
       "      <td>NaN</td>\n",
       "      <td>Manual 5-Speed</td>\n",
       "      <td>NaN</td>\n",
       "      <td>9001</td>\n",
       "      <td>(FFS)</td>\n",
       "      <td>...</td>\n",
       "      <td>0.0</td>\n",
       "      <td>0</td>\n",
       "      <td>0</td>\n",
       "      <td>0</td>\n",
       "      <td>0</td>\n",
       "      <td>0.0</td>\n",
       "      <td>0.0</td>\n",
       "      <td>NaN</td>\n",
       "      <td>0.0</td>\n",
       "      <td>0.0</td>\n",
       "    </tr>\n",
       "    <tr>\n",
       "      <th>1</th>\n",
       "      <td>27705</td>\n",
       "      <td>1984</td>\n",
       "      <td>Alfa Romeo</td>\n",
       "      <td>GT V6 2.5</td>\n",
       "      <td>Minicompact Cars</td>\n",
       "      <td>NaN</td>\n",
       "      <td>Manual 5-Speed</td>\n",
       "      <td>NaN</td>\n",
       "      <td>9005</td>\n",
       "      <td>(FFS) CA model</td>\n",
       "      <td>...</td>\n",
       "      <td>0.0</td>\n",
       "      <td>0</td>\n",
       "      <td>0</td>\n",
       "      <td>0</td>\n",
       "      <td>0</td>\n",
       "      <td>0.0</td>\n",
       "      <td>0.0</td>\n",
       "      <td>NaN</td>\n",
       "      <td>0.0</td>\n",
       "      <td>0.0</td>\n",
       "    </tr>\n",
       "    <tr>\n",
       "      <th>2</th>\n",
       "      <td>26561</td>\n",
       "      <td>1984</td>\n",
       "      <td>Alfa Romeo</td>\n",
       "      <td>Spider Veloce 2000</td>\n",
       "      <td>Two Seaters</td>\n",
       "      <td>NaN</td>\n",
       "      <td>Manual 5-Speed</td>\n",
       "      <td>NaN</td>\n",
       "      <td>9002</td>\n",
       "      <td>(FFS)</td>\n",
       "      <td>...</td>\n",
       "      <td>0.0</td>\n",
       "      <td>0</td>\n",
       "      <td>0</td>\n",
       "      <td>0</td>\n",
       "      <td>0</td>\n",
       "      <td>0.0</td>\n",
       "      <td>0.0</td>\n",
       "      <td>NaN</td>\n",
       "      <td>0.0</td>\n",
       "      <td>0.0</td>\n",
       "    </tr>\n",
       "    <tr>\n",
       "      <th>3</th>\n",
       "      <td>27681</td>\n",
       "      <td>1984</td>\n",
       "      <td>Alfa Romeo</td>\n",
       "      <td>Spider Veloce 2000</td>\n",
       "      <td>Two Seaters</td>\n",
       "      <td>NaN</td>\n",
       "      <td>Manual 5-Speed</td>\n",
       "      <td>NaN</td>\n",
       "      <td>9006</td>\n",
       "      <td>(FFS) CA model</td>\n",
       "      <td>...</td>\n",
       "      <td>0.0</td>\n",
       "      <td>0</td>\n",
       "      <td>0</td>\n",
       "      <td>0</td>\n",
       "      <td>0</td>\n",
       "      <td>0.0</td>\n",
       "      <td>0.0</td>\n",
       "      <td>NaN</td>\n",
       "      <td>0.0</td>\n",
       "      <td>0.0</td>\n",
       "    </tr>\n",
       "    <tr>\n",
       "      <th>4</th>\n",
       "      <td>27550</td>\n",
       "      <td>1984</td>\n",
       "      <td>AM General</td>\n",
       "      <td>DJ Po Vehicle 2WD</td>\n",
       "      <td>Special Purpose Vehicle 2WD</td>\n",
       "      <td>2-Wheel Drive</td>\n",
       "      <td>Automatic 3-Speed</td>\n",
       "      <td>NaN</td>\n",
       "      <td>1830</td>\n",
       "      <td>(FFS)</td>\n",
       "      <td>...</td>\n",
       "      <td>0.0</td>\n",
       "      <td>0</td>\n",
       "      <td>0</td>\n",
       "      <td>0</td>\n",
       "      <td>0</td>\n",
       "      <td>0.0</td>\n",
       "      <td>0.0</td>\n",
       "      <td>NaN</td>\n",
       "      <td>0.0</td>\n",
       "      <td>0.0</td>\n",
       "    </tr>\n",
       "  </tbody>\n",
       "</table>\n",
       "<p>5 rows × 81 columns</p>\n",
       "</div>"
      ],
      "text/plain": [
       "   Vehicle ID  Year        Make               Model  \\\n",
       "0       26587  1984  Alfa Romeo           GT V6 2.5   \n",
       "1       27705  1984  Alfa Romeo           GT V6 2.5   \n",
       "2       26561  1984  Alfa Romeo  Spider Veloce 2000   \n",
       "3       27681  1984  Alfa Romeo  Spider Veloce 2000   \n",
       "4       27550  1984  AM General   DJ Po Vehicle 2WD   \n",
       "\n",
       "                         Class          Drive       Transmission  \\\n",
       "0             Minicompact Cars            NaN     Manual 5-Speed   \n",
       "1             Minicompact Cars            NaN     Manual 5-Speed   \n",
       "2                  Two Seaters            NaN     Manual 5-Speed   \n",
       "3                  Two Seaters            NaN     Manual 5-Speed   \n",
       "4  Special Purpose Vehicle 2WD  2-Wheel Drive  Automatic 3-Speed   \n",
       "\n",
       "  Transmission Descriptor  Engine Index Engine Descriptor  \\\n",
       "0                     NaN          9001             (FFS)   \n",
       "1                     NaN          9005    (FFS) CA model   \n",
       "2                     NaN          9002             (FFS)   \n",
       "3                     NaN          9006    (FFS) CA model   \n",
       "4                     NaN          1830             (FFS)   \n",
       "\n",
       "          ...           Hours to Charge (AC 240V)  Composite City MPG  \\\n",
       "0         ...                                 0.0                   0   \n",
       "1         ...                                 0.0                   0   \n",
       "2         ...                                 0.0                   0   \n",
       "3         ...                                 0.0                   0   \n",
       "4         ...                                 0.0                   0   \n",
       "\n",
       "  Composite Highway MPG Composite Combined MPG Range (FT1) City Range (FT1)  \\\n",
       "0                     0                      0           0              0.0   \n",
       "1                     0                      0           0              0.0   \n",
       "2                     0                      0           0              0.0   \n",
       "3                     0                      0           0              0.0   \n",
       "4                     0                      0           0              0.0   \n",
       "\n",
       "  Highway Range (FT1)  Range (FT2)  City Range (FT2)  Highway Range (FT2)  \n",
       "0                 0.0          NaN               0.0                  0.0  \n",
       "1                 0.0          NaN               0.0                  0.0  \n",
       "2                 0.0          NaN               0.0                  0.0  \n",
       "3                 0.0          NaN               0.0                  0.0  \n",
       "4                 0.0          NaN               0.0                  0.0  \n",
       "\n",
       "[5 rows x 81 columns]"
      ]
     },
     "execution_count": 318,
     "metadata": {},
     "output_type": "execute_result"
    }
   ],
   "source": [
    "df.head()"
   ]
  },
  {
   "cell_type": "code",
   "execution_count": 319,
   "metadata": {
    "scrolled": true
   },
   "outputs": [
    {
     "name": "stdout",
     "output_type": "stream",
     "text": [
      "<class 'pandas.core.frame.DataFrame'>\n",
      "RangeIndex: 38113 entries, 0 to 38112\n",
      "Data columns (total 81 columns):\n",
      "Vehicle ID                             38113 non-null int64\n",
      "Year                                   38113 non-null int64\n",
      "Make                                   38113 non-null object\n",
      "Model                                  38113 non-null object\n",
      "Class                                  38113 non-null object\n",
      "Drive                                  36924 non-null object\n",
      "Transmission                           38102 non-null object\n",
      "Transmission Descriptor                15045 non-null object\n",
      "Engine Index                           38113 non-null int64\n",
      "Engine Descriptor                      22693 non-null object\n",
      "Engine Cylinders                       37977 non-null float64\n",
      "Engine Displacement                    37979 non-null float64\n",
      "Turbocharger                           5239 non-null object\n",
      "Supercharger                           693 non-null object\n",
      "Fuel Type                              38113 non-null object\n",
      "Fuel Type 1                            38113 non-null object\n",
      "Fuel Type 2                            1438 non-null object\n",
      "City MPG (FT1)                         38113 non-null int64\n",
      "Unrounded City MPG (FT1)               38113 non-null float64\n",
      "City MPG (FT2)                         38113 non-null int64\n",
      "Unrounded City MPG (FT2)               38113 non-null float64\n",
      "City Gasoline Consumption (CD)         38113 non-null float64\n",
      "City Electricity Consumption           38113 non-null float64\n",
      "City Utility Factor                    38113 non-null float64\n",
      "Highway MPG (FT1)                      38113 non-null int64\n",
      "Unrounded Highway MPG (FT1)            38113 non-null float64\n",
      "Highway MPG (FT2)                      38113 non-null int64\n",
      "Unrounded Highway MPG (FT2)            38113 non-null float64\n",
      "Highway Gasoline Consumption (CD)      38113 non-null float64\n",
      "Highway Electricity Consumption        38113 non-null float64\n",
      "Highway Utility Factor                 38113 non-null float64\n",
      "Unadjusted City MPG (FT1)              38113 non-null float64\n",
      "Unadjusted Highway MPG (FT1)           38113 non-null float64\n",
      "Unadjusted City MPG (FT2)              38113 non-null float64\n",
      "Unadjusted Highway MPG (FT2)           38113 non-null float64\n",
      "Combined MPG (FT1)                     38113 non-null int64\n",
      "Unrounded Combined MPG (FT1)           38113 non-null float64\n",
      "Combined MPG (FT2)                     38113 non-null int64\n",
      "Unrounded Combined MPG (FT2)           38113 non-null float64\n",
      "Combined Electricity Consumption       38113 non-null float64\n",
      "Combined Gasoline Consumption (CD)     38113 non-null float64\n",
      "Combined Utility Factor                38113 non-null float64\n",
      "Annual Fuel Cost (FT1)                 38113 non-null int64\n",
      "Annual Fuel Cost (FT2)                 38113 non-null int64\n",
      "Gas Guzzler Tax                        2296 non-null object\n",
      "Save or Spend (5 Year)                 38113 non-null int64\n",
      "Annual Consumption in Barrels (FT1)    38113 non-null float64\n",
      "Annual Consumption in Barrels (FT2)    38113 non-null float64\n",
      "Tailpipe CO2 (FT1)                     38113 non-null int64\n",
      "Tailpipe CO2 in Grams/Mile (FT1)       38113 non-null float64\n",
      "Tailpipe CO2 (FT2)                     38113 non-null int64\n",
      "Tailpipe CO2 in Grams/Mile (FT2)       38113 non-null float64\n",
      "Fuel Economy Score                     38113 non-null int64\n",
      "GHG Score                              38113 non-null int64\n",
      "GHG Score (Alt Fuel)                   38113 non-null int64\n",
      "My MPG Data                            38113 non-null object\n",
      "2D Passenger Volume                    38113 non-null int64\n",
      "2D Luggage Volume                      38113 non-null int64\n",
      "4D Passenger Volume                    38113 non-null int64\n",
      "4D Luggage Volume                      38113 non-null int64\n",
      "Hatchback Passenger Volume             38113 non-null int64\n",
      "Hatchback Luggage Volume               38113 non-null int64\n",
      "Start Stop Technology                  6443 non-null object\n",
      "Alternative Fuel/Technology            3047 non-null object\n",
      "Electric Motor                         604 non-null object\n",
      "Manufacturer Code                      7319 non-null object\n",
      "Gasoline/Electricity Blended (CD)      38113 non-null bool\n",
      "Vehicle Charger                        48 non-null object\n",
      "Alternate Charger                      46 non-null object\n",
      "Hours to Charge (120V)                 38113 non-null int64\n",
      "Hours to Charge (240V)                 38113 non-null float64\n",
      "Hours to Charge (AC 240V)              38113 non-null float64\n",
      "Composite City MPG                     38113 non-null int64\n",
      "Composite Highway MPG                  38113 non-null int64\n",
      "Composite Combined MPG                 38113 non-null int64\n",
      "Range (FT1)                            38113 non-null int64\n",
      "City Range (FT1)                       38113 non-null float64\n",
      "Highway Range (FT1)                    38113 non-null float64\n",
      "Range (FT2)                            1433 non-null object\n",
      "City Range (FT2)                       38113 non-null float64\n",
      "Highway Range (FT2)                    38113 non-null float64\n",
      "dtypes: bool(1), float64(31), int64(28), object(21)\n",
      "memory usage: 23.3+ MB\n"
     ]
    }
   ],
   "source": [
    "df.info()"
   ]
  },
  {
   "cell_type": "code",
   "execution_count": 174,
   "metadata": {},
   "outputs": [
    {
     "data": {
      "text/html": [
       "<div>\n",
       "<style scoped>\n",
       "    .dataframe tbody tr th:only-of-type {\n",
       "        vertical-align: middle;\n",
       "    }\n",
       "\n",
       "    .dataframe tbody tr th {\n",
       "        vertical-align: top;\n",
       "    }\n",
       "\n",
       "    .dataframe thead th {\n",
       "        text-align: right;\n",
       "    }\n",
       "</style>\n",
       "<table border=\"1\" class=\"dataframe\">\n",
       "  <thead>\n",
       "    <tr style=\"text-align: right;\">\n",
       "      <th></th>\n",
       "      <th>Vehicle ID</th>\n",
       "      <th>Year</th>\n",
       "      <th>Make</th>\n",
       "      <th>Model</th>\n",
       "      <th>Class</th>\n",
       "      <th>Drive</th>\n",
       "      <th>Transmission</th>\n",
       "      <th>Transmission Descriptor</th>\n",
       "      <th>Engine Index</th>\n",
       "      <th>Engine Descriptor</th>\n",
       "      <th>...</th>\n",
       "      <th>Hours to Charge (AC 240V)</th>\n",
       "      <th>Composite City MPG</th>\n",
       "      <th>Composite Highway MPG</th>\n",
       "      <th>Composite Combined MPG</th>\n",
       "      <th>Range (FT1)</th>\n",
       "      <th>City Range (FT1)</th>\n",
       "      <th>Highway Range (FT1)</th>\n",
       "      <th>Range (FT2)</th>\n",
       "      <th>City Range (FT2)</th>\n",
       "      <th>Highway Range (FT2)</th>\n",
       "    </tr>\n",
       "  </thead>\n",
       "  <tbody>\n",
       "    <tr>\n",
       "      <th>0</th>\n",
       "      <td>26587</td>\n",
       "      <td>1984</td>\n",
       "      <td>Alfa Romeo</td>\n",
       "      <td>GT V6 2.5</td>\n",
       "      <td>Minicompact Cars</td>\n",
       "      <td>NaN</td>\n",
       "      <td>Manual 5-Speed</td>\n",
       "      <td>NaN</td>\n",
       "      <td>9001.0</td>\n",
       "      <td>(FFS)</td>\n",
       "      <td>...</td>\n",
       "      <td>NaN</td>\n",
       "      <td>NaN</td>\n",
       "      <td>NaN</td>\n",
       "      <td>NaN</td>\n",
       "      <td>NaN</td>\n",
       "      <td>NaN</td>\n",
       "      <td>NaN</td>\n",
       "      <td>NaN</td>\n",
       "      <td>NaN</td>\n",
       "      <td>NaN</td>\n",
       "    </tr>\n",
       "    <tr>\n",
       "      <th>1</th>\n",
       "      <td>27705</td>\n",
       "      <td>1984</td>\n",
       "      <td>Alfa Romeo</td>\n",
       "      <td>GT V6 2.5</td>\n",
       "      <td>Minicompact Cars</td>\n",
       "      <td>NaN</td>\n",
       "      <td>Manual 5-Speed</td>\n",
       "      <td>NaN</td>\n",
       "      <td>9005.0</td>\n",
       "      <td>(FFS) CA model</td>\n",
       "      <td>...</td>\n",
       "      <td>NaN</td>\n",
       "      <td>NaN</td>\n",
       "      <td>NaN</td>\n",
       "      <td>NaN</td>\n",
       "      <td>NaN</td>\n",
       "      <td>NaN</td>\n",
       "      <td>NaN</td>\n",
       "      <td>NaN</td>\n",
       "      <td>NaN</td>\n",
       "      <td>NaN</td>\n",
       "    </tr>\n",
       "    <tr>\n",
       "      <th>2</th>\n",
       "      <td>26561</td>\n",
       "      <td>1984</td>\n",
       "      <td>Alfa Romeo</td>\n",
       "      <td>Spider Veloce 2000</td>\n",
       "      <td>Two Seaters</td>\n",
       "      <td>NaN</td>\n",
       "      <td>Manual 5-Speed</td>\n",
       "      <td>NaN</td>\n",
       "      <td>9002.0</td>\n",
       "      <td>(FFS)</td>\n",
       "      <td>...</td>\n",
       "      <td>NaN</td>\n",
       "      <td>NaN</td>\n",
       "      <td>NaN</td>\n",
       "      <td>NaN</td>\n",
       "      <td>NaN</td>\n",
       "      <td>NaN</td>\n",
       "      <td>NaN</td>\n",
       "      <td>NaN</td>\n",
       "      <td>NaN</td>\n",
       "      <td>NaN</td>\n",
       "    </tr>\n",
       "    <tr>\n",
       "      <th>3</th>\n",
       "      <td>27681</td>\n",
       "      <td>1984</td>\n",
       "      <td>Alfa Romeo</td>\n",
       "      <td>Spider Veloce 2000</td>\n",
       "      <td>Two Seaters</td>\n",
       "      <td>NaN</td>\n",
       "      <td>Manual 5-Speed</td>\n",
       "      <td>NaN</td>\n",
       "      <td>9006.0</td>\n",
       "      <td>(FFS) CA model</td>\n",
       "      <td>...</td>\n",
       "      <td>NaN</td>\n",
       "      <td>NaN</td>\n",
       "      <td>NaN</td>\n",
       "      <td>NaN</td>\n",
       "      <td>NaN</td>\n",
       "      <td>NaN</td>\n",
       "      <td>NaN</td>\n",
       "      <td>NaN</td>\n",
       "      <td>NaN</td>\n",
       "      <td>NaN</td>\n",
       "    </tr>\n",
       "    <tr>\n",
       "      <th>4</th>\n",
       "      <td>27550</td>\n",
       "      <td>1984</td>\n",
       "      <td>AM General</td>\n",
       "      <td>DJ Po Vehicle 2WD</td>\n",
       "      <td>Special Purpose Vehicle 2WD</td>\n",
       "      <td>2-Wheel Drive</td>\n",
       "      <td>Automatic 3-Speed</td>\n",
       "      <td>NaN</td>\n",
       "      <td>1830.0</td>\n",
       "      <td>(FFS)</td>\n",
       "      <td>...</td>\n",
       "      <td>NaN</td>\n",
       "      <td>NaN</td>\n",
       "      <td>NaN</td>\n",
       "      <td>NaN</td>\n",
       "      <td>NaN</td>\n",
       "      <td>NaN</td>\n",
       "      <td>NaN</td>\n",
       "      <td>NaN</td>\n",
       "      <td>NaN</td>\n",
       "      <td>NaN</td>\n",
       "    </tr>\n",
       "  </tbody>\n",
       "</table>\n",
       "<p>5 rows × 81 columns</p>\n",
       "</div>"
      ],
      "text/plain": [
       "   Vehicle ID  Year        Make               Model  \\\n",
       "0       26587  1984  Alfa Romeo           GT V6 2.5   \n",
       "1       27705  1984  Alfa Romeo           GT V6 2.5   \n",
       "2       26561  1984  Alfa Romeo  Spider Veloce 2000   \n",
       "3       27681  1984  Alfa Romeo  Spider Veloce 2000   \n",
       "4       27550  1984  AM General   DJ Po Vehicle 2WD   \n",
       "\n",
       "                         Class          Drive       Transmission  \\\n",
       "0             Minicompact Cars            NaN     Manual 5-Speed   \n",
       "1             Minicompact Cars            NaN     Manual 5-Speed   \n",
       "2                  Two Seaters            NaN     Manual 5-Speed   \n",
       "3                  Two Seaters            NaN     Manual 5-Speed   \n",
       "4  Special Purpose Vehicle 2WD  2-Wheel Drive  Automatic 3-Speed   \n",
       "\n",
       "  Transmission Descriptor  Engine Index Engine Descriptor  \\\n",
       "0                     NaN        9001.0             (FFS)   \n",
       "1                     NaN        9005.0    (FFS) CA model   \n",
       "2                     NaN        9002.0             (FFS)   \n",
       "3                     NaN        9006.0    (FFS) CA model   \n",
       "4                     NaN        1830.0             (FFS)   \n",
       "\n",
       "          ...           Hours to Charge (AC 240V)  Composite City MPG  \\\n",
       "0         ...                                 NaN                 NaN   \n",
       "1         ...                                 NaN                 NaN   \n",
       "2         ...                                 NaN                 NaN   \n",
       "3         ...                                 NaN                 NaN   \n",
       "4         ...                                 NaN                 NaN   \n",
       "\n",
       "  Composite Highway MPG Composite Combined MPG Range (FT1) City Range (FT1)  \\\n",
       "0                   NaN                    NaN         NaN              NaN   \n",
       "1                   NaN                    NaN         NaN              NaN   \n",
       "2                   NaN                    NaN         NaN              NaN   \n",
       "3                   NaN                    NaN         NaN              NaN   \n",
       "4                   NaN                    NaN         NaN              NaN   \n",
       "\n",
       "  Highway Range (FT1)  Range (FT2)  City Range (FT2)  Highway Range (FT2)  \n",
       "0                 NaN          NaN               NaN                  NaN  \n",
       "1                 NaN          NaN               NaN                  NaN  \n",
       "2                 NaN          NaN               NaN                  NaN  \n",
       "3                 NaN          NaN               NaN                  NaN  \n",
       "4                 NaN          NaN               NaN                  NaN  \n",
       "\n",
       "[5 rows x 81 columns]"
      ]
     },
     "execution_count": 174,
     "metadata": {},
     "output_type": "execute_result"
    }
   ],
   "source": [
    "#df = df.replace(0, np.nan)\n",
    "#df.head()"
   ]
  },
  {
   "cell_type": "code",
   "execution_count": 320,
   "metadata": {},
   "outputs": [
    {
     "data": {
      "text/plain": [
       "Vehicle ID                               0\n",
       "Year                                     0\n",
       "Make                                     0\n",
       "Model                                    0\n",
       "Class                                    0\n",
       "Drive                                 1189\n",
       "Transmission                            11\n",
       "Transmission Descriptor              23068\n",
       "Engine Index                             0\n",
       "Engine Descriptor                    15420\n",
       "Engine Cylinders                       136\n",
       "Engine Displacement                    134\n",
       "Turbocharger                         32874\n",
       "Supercharger                         37420\n",
       "Fuel Type                                0\n",
       "Fuel Type 1                              0\n",
       "Fuel Type 2                          36675\n",
       "City MPG (FT1)                           0\n",
       "Unrounded City MPG (FT1)                 0\n",
       "City MPG (FT2)                           0\n",
       "Unrounded City MPG (FT2)                 0\n",
       "City Gasoline Consumption (CD)           0\n",
       "City Electricity Consumption             0\n",
       "City Utility Factor                      0\n",
       "Highway MPG (FT1)                        0\n",
       "Unrounded Highway MPG (FT1)              0\n",
       "Highway MPG (FT2)                        0\n",
       "Unrounded Highway MPG (FT2)              0\n",
       "Highway Gasoline Consumption (CD)        0\n",
       "Highway Electricity Consumption          0\n",
       "                                     ...  \n",
       "Tailpipe CO2 in Grams/Mile (FT2)         0\n",
       "Fuel Economy Score                       0\n",
       "GHG Score                                0\n",
       "GHG Score (Alt Fuel)                     0\n",
       "My MPG Data                              0\n",
       "2D Passenger Volume                      0\n",
       "2D Luggage Volume                        0\n",
       "4D Passenger Volume                      0\n",
       "4D Luggage Volume                        0\n",
       "Hatchback Passenger Volume               0\n",
       "Hatchback Luggage Volume                 0\n",
       "Start Stop Technology                31670\n",
       "Alternative Fuel/Technology          35066\n",
       "Electric Motor                       37509\n",
       "Manufacturer Code                    30794\n",
       "Gasoline/Electricity Blended (CD)        0\n",
       "Vehicle Charger                      38065\n",
       "Alternate Charger                    38067\n",
       "Hours to Charge (120V)                   0\n",
       "Hours to Charge (240V)                   0\n",
       "Hours to Charge (AC 240V)                0\n",
       "Composite City MPG                       0\n",
       "Composite Highway MPG                    0\n",
       "Composite Combined MPG                   0\n",
       "Range (FT1)                              0\n",
       "City Range (FT1)                         0\n",
       "Highway Range (FT1)                      0\n",
       "Range (FT2)                          36680\n",
       "City Range (FT2)                         0\n",
       "Highway Range (FT2)                      0\n",
       "Length: 81, dtype: int64"
      ]
     },
     "execution_count": 320,
     "metadata": {},
     "output_type": "execute_result"
    }
   ],
   "source": [
    "df.isnull().sum()"
   ]
  },
  {
   "cell_type": "code",
   "execution_count": 321,
   "metadata": {},
   "outputs": [
    {
     "name": "stdout",
     "output_type": "stream",
     "text": [
      "Alternate Charger\n",
      "Vehicle Charger\n",
      "Electric Motor\n",
      "Supercharger\n",
      "Range (FT2)\n",
      "Fuel Type 2\n",
      "Gas Guzzler Tax\n",
      "Alternative Fuel/Technology\n",
      "Turbocharger\n",
      "Start Stop Technology\n",
      "Manufacturer Code\n",
      "Transmission Descriptor\n"
     ]
    }
   ],
   "source": [
    "column_names = df.isnull().sum().sort_values(ascending = False).index\n",
    "column_names\n",
    "find_null_columns = df.isnull().sum().sort_values(ascending = False).values\n",
    "for col in range(len(find_null_columns)):\n",
    "    if find_null_columns[col] > (len(df)/100)*60:\n",
    "        print (column_names[col])\n",
    "        df.drop(column_names[col], axis=1, inplace=True)"
   ]
  },
  {
   "cell_type": "code",
   "execution_count": null,
   "metadata": {},
   "outputs": [],
   "source": []
  },
  {
   "cell_type": "code",
   "execution_count": 322,
   "metadata": {},
   "outputs": [
    {
     "data": {
      "text/plain": [
       "Vehicle ID                                 0\n",
       "Year                                       0\n",
       "Make                                       0\n",
       "Model                                      0\n",
       "Class                                      0\n",
       "Drive                                   1189\n",
       "Transmission                              11\n",
       "Engine Index                               0\n",
       "Engine Descriptor                      15420\n",
       "Engine Cylinders                         136\n",
       "Engine Displacement                      134\n",
       "Fuel Type                                  0\n",
       "Fuel Type 1                                0\n",
       "City MPG (FT1)                             0\n",
       "Unrounded City MPG (FT1)                   0\n",
       "City MPG (FT2)                             0\n",
       "Unrounded City MPG (FT2)                   0\n",
       "City Gasoline Consumption (CD)             0\n",
       "City Electricity Consumption               0\n",
       "City Utility Factor                        0\n",
       "Highway MPG (FT1)                          0\n",
       "Unrounded Highway MPG (FT1)                0\n",
       "Highway MPG (FT2)                          0\n",
       "Unrounded Highway MPG (FT2)                0\n",
       "Highway Gasoline Consumption (CD)          0\n",
       "Highway Electricity Consumption            0\n",
       "Highway Utility Factor                     0\n",
       "Unadjusted City MPG (FT1)                  0\n",
       "Unadjusted Highway MPG (FT1)               0\n",
       "Unadjusted City MPG (FT2)                  0\n",
       "                                       ...  \n",
       "Annual Fuel Cost (FT2)                     0\n",
       "Save or Spend (5 Year)                     0\n",
       "Annual Consumption in Barrels (FT1)        0\n",
       "Annual Consumption in Barrels (FT2)        0\n",
       "Tailpipe CO2 (FT1)                         0\n",
       "Tailpipe CO2 in Grams/Mile (FT1)           0\n",
       "Tailpipe CO2 (FT2)                         0\n",
       "Tailpipe CO2 in Grams/Mile (FT2)           0\n",
       "Fuel Economy Score                         0\n",
       "GHG Score                                  0\n",
       "GHG Score (Alt Fuel)                       0\n",
       "My MPG Data                                0\n",
       "2D Passenger Volume                        0\n",
       "2D Luggage Volume                          0\n",
       "4D Passenger Volume                        0\n",
       "4D Luggage Volume                          0\n",
       "Hatchback Passenger Volume                 0\n",
       "Hatchback Luggage Volume                   0\n",
       "Gasoline/Electricity Blended (CD)          0\n",
       "Hours to Charge (120V)                     0\n",
       "Hours to Charge (240V)                     0\n",
       "Hours to Charge (AC 240V)                  0\n",
       "Composite City MPG                         0\n",
       "Composite Highway MPG                      0\n",
       "Composite Combined MPG                     0\n",
       "Range (FT1)                                0\n",
       "City Range (FT1)                           0\n",
       "Highway Range (FT1)                        0\n",
       "City Range (FT2)                           0\n",
       "Highway Range (FT2)                        0\n",
       "Length: 69, dtype: int64"
      ]
     },
     "execution_count": 322,
     "metadata": {},
     "output_type": "execute_result"
    }
   ],
   "source": [
    "df.isnull().sum()"
   ]
  },
  {
   "cell_type": "code",
   "execution_count": 323,
   "metadata": {},
   "outputs": [],
   "source": [
    "df.dropna(inplace=True)"
   ]
  },
  {
   "cell_type": "code",
   "execution_count": 324,
   "metadata": {},
   "outputs": [
    {
     "data": {
      "text/plain": [
       "(21531, 69)"
      ]
     },
     "execution_count": 324,
     "metadata": {},
     "output_type": "execute_result"
    }
   ],
   "source": [
    "df.shape"
   ]
  },
  {
   "cell_type": "code",
   "execution_count": 325,
   "metadata": {},
   "outputs": [
    {
     "data": {
      "text/plain": [
       "0"
      ]
     },
     "execution_count": 325,
     "metadata": {},
     "output_type": "execute_result"
    }
   ],
   "source": [
    "df.isnull().sum().sum()"
   ]
  },
  {
   "cell_type": "code",
   "execution_count": 326,
   "metadata": {},
   "outputs": [
    {
     "data": {
      "text/plain": [
       "Index(['Vehicle_ID', 'Year', 'Make', 'Model', 'Class', 'Drive', 'Transmission',\n",
       "       'Engine_Index', 'Engine_Descriptor', 'Engine_Cylinders',\n",
       "       'Engine_Displacement', 'Fuel_Type', 'Fuel_Type_1', 'City_MPG_FT1',\n",
       "       'Unrounded_City_MPG_FT1', 'City_MPG_FT2', 'Unrounded_City_MPG_FT2',\n",
       "       'City_Gasoline_Consumption_CD', 'City_Electricity_Consumption',\n",
       "       'City_Utility_Factor', 'Highway_MPG_FT1', 'Unrounded_Highway_MPG_FT1',\n",
       "       'Highway_MPG_FT2', 'Unrounded_Highway_MPG_FT2',\n",
       "       'Highway_Gasoline_Consumption_CD', 'Highway_Electricity_Consumption',\n",
       "       'Highway_Utility_Factor', 'Unadjusted_City_MPG_FT1',\n",
       "       'Unadjusted_Highway_MPG_FT1', 'Unadjusted_City_MPG_FT2',\n",
       "       'Unadjusted_Highway_MPG_FT2', 'Combined_MPG_FT1',\n",
       "       'Unrounded_Combined_MPG_FT1', 'Combined_MPG_FT2',\n",
       "       'Unrounded_Combined_MPG_FT2', 'Combined_Electricity_Consumption',\n",
       "       'Combined_Gasoline_Consumption_CD', 'Combined_Utility_Factor',\n",
       "       'Annual_Fuel_Cost_FT1', 'Annual_Fuel_Cost_FT2', 'Save_or_Spend_5_Year',\n",
       "       'Annual_Consumption_in_Barrels_FT1',\n",
       "       'Annual_Consumption_in_Barrels_FT2', 'Tailpipe_CO2_FT1',\n",
       "       'Tailpipe_CO2_in_Grams/Mile_FT1', 'Tailpipe_CO2_FT2',\n",
       "       'Tailpipe_CO2_in_Grams/Mile_FT2', 'Fuel_Economy_Score', 'GHG_Score',\n",
       "       'GHG_Score_Alt_Fuel', 'My_MPG_Data', '2D_Passenger_Volume',\n",
       "       '2D_Luggage_Volume', '4D_Passenger_Volume', '4D_Luggage_Volume',\n",
       "       'Hatchback_Passenger_Volume', 'Hatchback_Luggage_Volume',\n",
       "       'Gasoline/Electricity_Blended_CD', 'Hours_to_Charge_120V',\n",
       "       'Hours_to_Charge_240V', 'Hours_to_Charge_AC_240V', 'Composite_City_MPG',\n",
       "       'Composite_Highway_MPG', 'Composite_Combined_MPG', 'Range_FT1',\n",
       "       'City_Range_FT1', 'Highway_Range_FT1', 'City_Range_FT2',\n",
       "       'Highway_Range_FT2'],\n",
       "      dtype='object')"
      ]
     },
     "execution_count": 326,
     "metadata": {},
     "output_type": "execute_result"
    }
   ],
   "source": [
    "df.columns = df.columns.str.replace(' ', '_')\n",
    "df.columns = df.columns.str.replace('(', '')\n",
    "df.columns = df.columns.str.replace(')', '')\n",
    "df.columns"
   ]
  },
  {
   "cell_type": "code",
   "execution_count": 327,
   "metadata": {},
   "outputs": [],
   "source": [
    "df.drop('Fuel_Economy_Score', axis=1, inplace=True)\n",
    "df.drop('GHG_Score', axis=1, inplace=True)"
   ]
  },
  {
   "cell_type": "code",
   "execution_count": 328,
   "metadata": {},
   "outputs": [
    {
     "data": {
      "text/html": [
       "<div>\n",
       "<style scoped>\n",
       "    .dataframe tbody tr th:only-of-type {\n",
       "        vertical-align: middle;\n",
       "    }\n",
       "\n",
       "    .dataframe tbody tr th {\n",
       "        vertical-align: top;\n",
       "    }\n",
       "\n",
       "    .dataframe thead th {\n",
       "        text-align: right;\n",
       "    }\n",
       "</style>\n",
       "<table border=\"1\" class=\"dataframe\">\n",
       "  <thead>\n",
       "    <tr style=\"text-align: right;\">\n",
       "      <th></th>\n",
       "      <th>Vehicle_ID</th>\n",
       "      <th>Year</th>\n",
       "      <th>Make</th>\n",
       "      <th>Model</th>\n",
       "      <th>Class</th>\n",
       "      <th>Drive</th>\n",
       "      <th>Transmission</th>\n",
       "      <th>Engine_Index</th>\n",
       "      <th>Engine_Descriptor</th>\n",
       "      <th>Engine_Cylinders</th>\n",
       "      <th>...</th>\n",
       "      <th>Hours_to_Charge_240V</th>\n",
       "      <th>Hours_to_Charge_AC_240V</th>\n",
       "      <th>Composite_City_MPG</th>\n",
       "      <th>Composite_Highway_MPG</th>\n",
       "      <th>Composite_Combined_MPG</th>\n",
       "      <th>Range_FT1</th>\n",
       "      <th>City_Range_FT1</th>\n",
       "      <th>Highway_Range_FT1</th>\n",
       "      <th>City_Range_FT2</th>\n",
       "      <th>Highway_Range_FT2</th>\n",
       "    </tr>\n",
       "  </thead>\n",
       "  <tbody>\n",
       "    <tr>\n",
       "      <th>4</th>\n",
       "      <td>27550</td>\n",
       "      <td>1984</td>\n",
       "      <td>AM General</td>\n",
       "      <td>DJ Po Vehicle 2WD</td>\n",
       "      <td>Special Purpose Vehicle 2WD</td>\n",
       "      <td>2-Wheel Drive</td>\n",
       "      <td>Automatic 3-Speed</td>\n",
       "      <td>1830</td>\n",
       "      <td>(FFS)</td>\n",
       "      <td>4.0</td>\n",
       "      <td>...</td>\n",
       "      <td>0.0</td>\n",
       "      <td>0.0</td>\n",
       "      <td>0</td>\n",
       "      <td>0</td>\n",
       "      <td>0</td>\n",
       "      <td>0</td>\n",
       "      <td>0.0</td>\n",
       "      <td>0.0</td>\n",
       "      <td>0.0</td>\n",
       "      <td>0.0</td>\n",
       "    </tr>\n",
       "    <tr>\n",
       "      <th>5</th>\n",
       "      <td>28426</td>\n",
       "      <td>1984</td>\n",
       "      <td>AM General</td>\n",
       "      <td>DJ Po Vehicle 2WD</td>\n",
       "      <td>Special Purpose Vehicle 2WD</td>\n",
       "      <td>2-Wheel Drive</td>\n",
       "      <td>Automatic 3-Speed</td>\n",
       "      <td>1880</td>\n",
       "      <td>(FFS) CA model</td>\n",
       "      <td>4.0</td>\n",
       "      <td>...</td>\n",
       "      <td>0.0</td>\n",
       "      <td>0.0</td>\n",
       "      <td>0</td>\n",
       "      <td>0</td>\n",
       "      <td>0</td>\n",
       "      <td>0</td>\n",
       "      <td>0.0</td>\n",
       "      <td>0.0</td>\n",
       "      <td>0.0</td>\n",
       "      <td>0.0</td>\n",
       "    </tr>\n",
       "    <tr>\n",
       "      <th>6</th>\n",
       "      <td>27549</td>\n",
       "      <td>1984</td>\n",
       "      <td>AM General</td>\n",
       "      <td>FJ8c Post Office</td>\n",
       "      <td>Special Purpose Vehicle 2WD</td>\n",
       "      <td>2-Wheel Drive</td>\n",
       "      <td>Automatic 3-Speed</td>\n",
       "      <td>1831</td>\n",
       "      <td>(FFS)</td>\n",
       "      <td>6.0</td>\n",
       "      <td>...</td>\n",
       "      <td>0.0</td>\n",
       "      <td>0.0</td>\n",
       "      <td>0</td>\n",
       "      <td>0</td>\n",
       "      <td>0</td>\n",
       "      <td>0</td>\n",
       "      <td>0.0</td>\n",
       "      <td>0.0</td>\n",
       "      <td>0.0</td>\n",
       "      <td>0.0</td>\n",
       "    </tr>\n",
       "    <tr>\n",
       "      <th>7</th>\n",
       "      <td>28425</td>\n",
       "      <td>1984</td>\n",
       "      <td>AM General</td>\n",
       "      <td>FJ8c Post Office</td>\n",
       "      <td>Special Purpose Vehicle 2WD</td>\n",
       "      <td>2-Wheel Drive</td>\n",
       "      <td>Automatic 3-Speed</td>\n",
       "      <td>1881</td>\n",
       "      <td>(FFS) CA model</td>\n",
       "      <td>6.0</td>\n",
       "      <td>...</td>\n",
       "      <td>0.0</td>\n",
       "      <td>0.0</td>\n",
       "      <td>0</td>\n",
       "      <td>0</td>\n",
       "      <td>0</td>\n",
       "      <td>0</td>\n",
       "      <td>0.0</td>\n",
       "      <td>0.0</td>\n",
       "      <td>0.0</td>\n",
       "      <td>0.0</td>\n",
       "    </tr>\n",
       "    <tr>\n",
       "      <th>8</th>\n",
       "      <td>27593</td>\n",
       "      <td>1984</td>\n",
       "      <td>American Motors Corporation</td>\n",
       "      <td>Eagle 4WD</td>\n",
       "      <td>Special Purpose Vehicle 4WD</td>\n",
       "      <td>4-Wheel or All-Wheel Drive</td>\n",
       "      <td>Automatic 3-Speed</td>\n",
       "      <td>1524</td>\n",
       "      <td>(FFS)</td>\n",
       "      <td>6.0</td>\n",
       "      <td>...</td>\n",
       "      <td>0.0</td>\n",
       "      <td>0.0</td>\n",
       "      <td>0</td>\n",
       "      <td>0</td>\n",
       "      <td>0</td>\n",
       "      <td>0</td>\n",
       "      <td>0.0</td>\n",
       "      <td>0.0</td>\n",
       "      <td>0.0</td>\n",
       "      <td>0.0</td>\n",
       "    </tr>\n",
       "  </tbody>\n",
       "</table>\n",
       "<p>5 rows × 67 columns</p>\n",
       "</div>"
      ],
      "text/plain": [
       "   Vehicle_ID  Year                         Make              Model  \\\n",
       "4       27550  1984                   AM General  DJ Po Vehicle 2WD   \n",
       "5       28426  1984                   AM General  DJ Po Vehicle 2WD   \n",
       "6       27549  1984                   AM General   FJ8c Post Office   \n",
       "7       28425  1984                   AM General   FJ8c Post Office   \n",
       "8       27593  1984  American Motors Corporation          Eagle 4WD   \n",
       "\n",
       "                         Class                       Drive       Transmission  \\\n",
       "4  Special Purpose Vehicle 2WD               2-Wheel Drive  Automatic 3-Speed   \n",
       "5  Special Purpose Vehicle 2WD               2-Wheel Drive  Automatic 3-Speed   \n",
       "6  Special Purpose Vehicle 2WD               2-Wheel Drive  Automatic 3-Speed   \n",
       "7  Special Purpose Vehicle 2WD               2-Wheel Drive  Automatic 3-Speed   \n",
       "8  Special Purpose Vehicle 4WD  4-Wheel or All-Wheel Drive  Automatic 3-Speed   \n",
       "\n",
       "   Engine_Index Engine_Descriptor  Engine_Cylinders        ...          \\\n",
       "4          1830             (FFS)               4.0        ...           \n",
       "5          1880    (FFS) CA model               4.0        ...           \n",
       "6          1831             (FFS)               6.0        ...           \n",
       "7          1881    (FFS) CA model               6.0        ...           \n",
       "8          1524             (FFS)               6.0        ...           \n",
       "\n",
       "   Hours_to_Charge_240V Hours_to_Charge_AC_240V Composite_City_MPG  \\\n",
       "4                   0.0                     0.0                  0   \n",
       "5                   0.0                     0.0                  0   \n",
       "6                   0.0                     0.0                  0   \n",
       "7                   0.0                     0.0                  0   \n",
       "8                   0.0                     0.0                  0   \n",
       "\n",
       "   Composite_Highway_MPG  Composite_Combined_MPG  Range_FT1  City_Range_FT1  \\\n",
       "4                      0                       0          0             0.0   \n",
       "5                      0                       0          0             0.0   \n",
       "6                      0                       0          0             0.0   \n",
       "7                      0                       0          0             0.0   \n",
       "8                      0                       0          0             0.0   \n",
       "\n",
       "   Highway_Range_FT1  City_Range_FT2  Highway_Range_FT2  \n",
       "4                0.0             0.0                0.0  \n",
       "5                0.0             0.0                0.0  \n",
       "6                0.0             0.0                0.0  \n",
       "7                0.0             0.0                0.0  \n",
       "8                0.0             0.0                0.0  \n",
       "\n",
       "[5 rows x 67 columns]"
      ]
     },
     "execution_count": 328,
     "metadata": {},
     "output_type": "execute_result"
    }
   ],
   "source": [
    "df.head()"
   ]
  },
  {
   "cell_type": "code",
   "execution_count": 329,
   "metadata": {},
   "outputs": [],
   "source": [
    "show_datatype_object = df.select_dtypes(['bool'])\n",
    "df.drop(show_datatype_object.columns, axis=1, inplace=True)\n",
    "show_datatype_object = df.select_dtypes(['bool'])"
   ]
  },
  {
   "cell_type": "code",
   "execution_count": null,
   "metadata": {},
   "outputs": [],
   "source": []
  },
  {
   "cell_type": "code",
   "execution_count": 330,
   "metadata": {},
   "outputs": [
    {
     "data": {
      "text/plain": [
       "Index(['Make', 'Model', 'Class', 'Drive', 'Transmission', 'Engine_Descriptor',\n",
       "       'Fuel_Type', 'Fuel_Type_1', 'My_MPG_Data'],\n",
       "      dtype='object')"
      ]
     },
     "execution_count": 330,
     "metadata": {},
     "output_type": "execute_result"
    }
   ],
   "source": [
    "show_datatype_object = df.select_dtypes(['object'])\n",
    "show_datatype_object.columns"
   ]
  },
  {
   "cell_type": "code",
   "execution_count": 331,
   "metadata": {},
   "outputs": [
    {
     "data": {
      "text/plain": [
       "array(['Regular', 'Diesel', 'Premium', 'CNG', 'Gasoline or natural gas',\n",
       "       'Gasoline or E85', 'Premium or E85', 'Premium Gas or Electricity',\n",
       "       'Regular Gas and Electricity', 'Premium and Electricity',\n",
       "       'Regular Gas or Electricity'], dtype=object)"
      ]
     },
     "execution_count": 331,
     "metadata": {},
     "output_type": "execute_result"
    }
   ],
   "source": [
    "df['Fuel_Type'].unique()"
   ]
  },
  {
   "cell_type": "code",
   "execution_count": 332,
   "metadata": {},
   "outputs": [
    {
     "data": {
      "text/plain": [
       "array([ 0,  1,  2,  3,  4,  5,  6,  7,  8,  9, 10])"
      ]
     },
     "execution_count": 332,
     "metadata": {},
     "output_type": "execute_result"
    }
   ],
   "source": [
    "fuel_type_dict = {}\n",
    "fuel_types = df['Fuel_Type'].unique()\n",
    "for index in range(len(fuel_types)):\n",
    "    fuel_type_dict[fuel_types[index]] = index\n",
    "df['Fuel_Type_Num'] = df.Fuel_Type.map(fuel_type_dict)\n",
    "df['Fuel_Type_Num'].unique()"
   ]
  },
  {
   "cell_type": "code",
   "execution_count": 333,
   "metadata": {},
   "outputs": [
    {
     "data": {
      "text/plain": [
       "array([0, 1, 2, 3])"
      ]
     },
     "execution_count": 333,
     "metadata": {},
     "output_type": "execute_result"
    }
   ],
   "source": [
    "fuel_type_1_dict = {}\n",
    "fuel_types_1 = df['Fuel_Type_1'].unique()\n",
    "for index in range(len(fuel_types_1)):\n",
    "    fuel_type_1_dict[fuel_types_1[index]] = index\n",
    "df['Fuel_Type_1_Num'] = df.Fuel_Type_1.map(fuel_type_1_dict)\n",
    "df['Fuel_Type_1_Num'].unique()"
   ]
  },
  {
   "cell_type": "code",
   "execution_count": 334,
   "metadata": {},
   "outputs": [
    {
     "data": {
      "text/plain": [
       "array(['N', 'Y'], dtype=object)"
      ]
     },
     "execution_count": 334,
     "metadata": {},
     "output_type": "execute_result"
    }
   ],
   "source": [
    "df['My_MPG_Data'].unique()"
   ]
  },
  {
   "cell_type": "code",
   "execution_count": 302,
   "metadata": {},
   "outputs": [
    {
     "data": {
      "text/plain": [
       "array([0, 1])"
      ]
     },
     "execution_count": 302,
     "metadata": {},
     "output_type": "execute_result"
    }
   ],
   "source": [
    "My_MPG_Data_dict = {}\n",
    "My_MPG_Data_unique = df['My_MPG_Data'].unique()\n",
    "for index in range(len(My_MPG_Data_unique)):\n",
    "    My_MPG_Data_dict[My_MPG_Data_unique[index]] = index\n",
    "df['My_MPG_Data_Num'] = df.My_MPG_Data.map(My_MPG_Data_dict)\n",
    "df['My_MPG_Data_Num'].unique()"
   ]
  },
  {
   "cell_type": "code",
   "execution_count": null,
   "metadata": {},
   "outputs": [],
   "source": []
  },
  {
   "cell_type": "code",
   "execution_count": 335,
   "metadata": {},
   "outputs": [],
   "source": [
    "int_data_types = df.select_dtypes(['int64']).columns\n",
    "int_data_types\n",
    "for index in int_data_types:\n",
    "    df[index] = df[index].astype(float)"
   ]
  },
  {
   "cell_type": "code",
   "execution_count": 336,
   "metadata": {},
   "outputs": [
    {
     "name": "stdout",
     "output_type": "stream",
     "text": [
      "<class 'pandas.core.frame.DataFrame'>\n",
      "Int64Index: 21531 entries, 4 to 38112\n",
      "Data columns (total 68 columns):\n",
      "Vehicle_ID                           21531 non-null float64\n",
      "Year                                 21531 non-null float64\n",
      "Make                                 21531 non-null object\n",
      "Model                                21531 non-null object\n",
      "Class                                21531 non-null object\n",
      "Drive                                21531 non-null object\n",
      "Transmission                         21531 non-null object\n",
      "Engine_Index                         21531 non-null float64\n",
      "Engine_Descriptor                    21531 non-null object\n",
      "Engine_Cylinders                     21531 non-null float64\n",
      "Engine_Displacement                  21531 non-null float64\n",
      "Fuel_Type                            21531 non-null object\n",
      "Fuel_Type_1                          21531 non-null object\n",
      "City_MPG_FT1                         21531 non-null float64\n",
      "Unrounded_City_MPG_FT1               21531 non-null float64\n",
      "City_MPG_FT2                         21531 non-null float64\n",
      "Unrounded_City_MPG_FT2               21531 non-null float64\n",
      "City_Gasoline_Consumption_CD         21531 non-null float64\n",
      "City_Electricity_Consumption         21531 non-null float64\n",
      "City_Utility_Factor                  21531 non-null float64\n",
      "Highway_MPG_FT1                      21531 non-null float64\n",
      "Unrounded_Highway_MPG_FT1            21531 non-null float64\n",
      "Highway_MPG_FT2                      21531 non-null float64\n",
      "Unrounded_Highway_MPG_FT2            21531 non-null float64\n",
      "Highway_Gasoline_Consumption_CD      21531 non-null float64\n",
      "Highway_Electricity_Consumption      21531 non-null float64\n",
      "Highway_Utility_Factor               21531 non-null float64\n",
      "Unadjusted_City_MPG_FT1              21531 non-null float64\n",
      "Unadjusted_Highway_MPG_FT1           21531 non-null float64\n",
      "Unadjusted_City_MPG_FT2              21531 non-null float64\n",
      "Unadjusted_Highway_MPG_FT2           21531 non-null float64\n",
      "Combined_MPG_FT1                     21531 non-null float64\n",
      "Unrounded_Combined_MPG_FT1           21531 non-null float64\n",
      "Combined_MPG_FT2                     21531 non-null float64\n",
      "Unrounded_Combined_MPG_FT2           21531 non-null float64\n",
      "Combined_Electricity_Consumption     21531 non-null float64\n",
      "Combined_Gasoline_Consumption_CD     21531 non-null float64\n",
      "Combined_Utility_Factor              21531 non-null float64\n",
      "Annual_Fuel_Cost_FT1                 21531 non-null float64\n",
      "Annual_Fuel_Cost_FT2                 21531 non-null float64\n",
      "Save_or_Spend_5_Year                 21531 non-null float64\n",
      "Annual_Consumption_in_Barrels_FT1    21531 non-null float64\n",
      "Annual_Consumption_in_Barrels_FT2    21531 non-null float64\n",
      "Tailpipe_CO2_FT1                     21531 non-null float64\n",
      "Tailpipe_CO2_in_Grams/Mile_FT1       21531 non-null float64\n",
      "Tailpipe_CO2_FT2                     21531 non-null float64\n",
      "Tailpipe_CO2_in_Grams/Mile_FT2       21531 non-null float64\n",
      "GHG_Score_Alt_Fuel                   21531 non-null float64\n",
      "My_MPG_Data                          21531 non-null object\n",
      "2D_Passenger_Volume                  21531 non-null float64\n",
      "2D_Luggage_Volume                    21531 non-null float64\n",
      "4D_Passenger_Volume                  21531 non-null float64\n",
      "4D_Luggage_Volume                    21531 non-null float64\n",
      "Hatchback_Passenger_Volume           21531 non-null float64\n",
      "Hatchback_Luggage_Volume             21531 non-null float64\n",
      "Hours_to_Charge_120V                 21531 non-null float64\n",
      "Hours_to_Charge_240V                 21531 non-null float64\n",
      "Hours_to_Charge_AC_240V              21531 non-null float64\n",
      "Composite_City_MPG                   21531 non-null float64\n",
      "Composite_Highway_MPG                21531 non-null float64\n",
      "Composite_Combined_MPG               21531 non-null float64\n",
      "Range_FT1                            21531 non-null float64\n",
      "City_Range_FT1                       21531 non-null float64\n",
      "Highway_Range_FT1                    21531 non-null float64\n",
      "City_Range_FT2                       21531 non-null float64\n",
      "Highway_Range_FT2                    21531 non-null float64\n",
      "Fuel_Type_Num                        21531 non-null float64\n",
      "Fuel_Type_1_Num                      21531 non-null float64\n",
      "dtypes: float64(59), object(9)\n",
      "memory usage: 11.3+ MB\n"
     ]
    }
   ],
   "source": [
    "df.info()"
   ]
  },
  {
   "cell_type": "code",
   "execution_count": 366,
   "metadata": {},
   "outputs": [
    {
     "data": {
      "text/plain": [
       "<matplotlib.axes._subplots.AxesSubplot at 0x7f6d67a9f400>"
      ]
     },
     "execution_count": 366,
     "metadata": {},
     "output_type": "execute_result"
    },
    {
     "data": {
      "image/png": "[encoded data removed]",
      "text/plain": [
       "<Figure size 432x288 with 2 Axes>"
      ]
     },
     "metadata": {
      "needs_background": "light"
     },
     "output_type": "display_data"
    }
   ],
   "source": [
    "sns.heatmap(df.corr())"
   ]
  },
  {
   "cell_type": "code",
   "execution_count": null,
   "metadata": {},
   "outputs": [],
   "source": [
    "sns.pairplot(df)"
   ]
  },
  {
   "cell_type": "code",
   "execution_count": 337,
   "metadata": {},
   "outputs": [
    {
     "data": {
      "text/plain": [
       "<matplotlib.axes._subplots.AxesSubplot at 0x7f6d67d600b8>"
      ]
     },
     "execution_count": 337,
     "metadata": {},
     "output_type": "execute_result"
    },
    {
     "data": {
      "image/png": "[encoded data removed]",
      "text/plain": [
       "<Figure size 432x288 with 1 Axes>"
      ]
     },
     "metadata": {
      "needs_background": "light"
     },
     "output_type": "display_data"
    }
   ],
   "source": [
    "df.Year.hist()"
   ]
  },
  {
   "cell_type": "code",
   "execution_count": 338,
   "metadata": {},
   "outputs": [
    {
     "data": {
      "text/plain": [
       "Year                                 1.000000\n",
       "Vehicle_ID                           0.910474\n",
       "Unrounded_Highway_MPG_FT1            0.851654\n",
       "Unrounded_Combined_MPG_FT1           0.846998\n",
       "Unrounded_City_MPG_FT1               0.841566\n",
       "Tailpipe_CO2_FT1                     0.764510\n",
       "Fuel_Type_Num                        0.518751\n",
       "Fuel_Type_1_Num                      0.386513\n",
       "Annual_Consumption_in_Barrels_FT2    0.317055\n",
       "Annual_Fuel_Cost_FT2                 0.310862\n",
       "Tailpipe_CO2_in_Grams/Mile_FT2       0.309250\n",
       "Highway_MPG_FT2                      0.278087\n",
       "Unadjusted_Highway_MPG_FT1           0.274939\n",
       "Unadjusted_Highway_MPG_FT2           0.274875\n",
       "Highway_MPG_FT1                      0.262681\n",
       "Combined_MPG_FT2                     0.255894\n",
       "Unrounded_Highway_MPG_FT2            0.249877\n",
       "GHG_Score_Alt_Fuel                   0.247239\n",
       "Tailpipe_CO2_FT2                     0.246452\n",
       "City_MPG_FT2                         0.237306\n",
       "Unrounded_Combined_MPG_FT2           0.228081\n",
       "Unadjusted_City_MPG_FT2              0.221940\n",
       "Unrounded_City_MPG_FT2               0.211113\n",
       "Combined_MPG_FT1                     0.193327\n",
       "Unadjusted_City_MPG_FT1              0.148081\n",
       "City_MPG_FT1                         0.145880\n",
       "Engine_Cylinders                     0.120809\n",
       "Highway_Electricity_Consumption      0.090609\n",
       "Combined_Electricity_Consumption     0.089936\n",
       "City_Electricity_Consumption         0.089202\n",
       "Composite_Highway_MPG                0.088612\n",
       "Combined_Utility_Factor              0.088273\n",
       "Highway_Utility_Factor               0.088214\n",
       "City_Utility_Factor                  0.088205\n",
       "Hours_to_Charge_240V                 0.087184\n",
       "Composite_Combined_MPG               0.087057\n",
       "Composite_City_MPG                   0.085570\n",
       "Highway_Range_FT2                    0.077117\n",
       "City_Range_FT2                       0.075406\n",
       "Save_or_Spend_5_Year                 0.072288\n",
       "Engine_Displacement                  0.052637\n",
       "4D_Passenger_Volume                  0.050278\n",
       "City_Gasoline_Consumption_CD         0.023524\n",
       "Combined_Gasoline_Consumption_CD     0.021462\n",
       "Highway_Gasoline_Consumption_CD      0.017332\n",
       "2D_Passenger_Volume                 -0.008803\n",
       "4D_Luggage_Volume                   -0.031307\n",
       "2D_Luggage_Volume                   -0.049959\n",
       "Annual_Fuel_Cost_FT1                -0.070560\n",
       "Hatchback_Luggage_Volume            -0.100967\n",
       "Hatchback_Passenger_Volume          -0.117657\n",
       "Tailpipe_CO2_in_Grams/Mile_FT1      -0.212522\n",
       "Annual_Consumption_in_Barrels_FT1   -0.213034\n",
       "Engine_Index                        -0.401753\n",
       "Hours_to_Charge_120V                      NaN\n",
       "Hours_to_Charge_AC_240V                   NaN\n",
       "Range_FT1                                 NaN\n",
       "City_Range_FT1                            NaN\n",
       "Highway_Range_FT1                         NaN\n",
       "Name: Year, dtype: float64"
      ]
     },
     "execution_count": 338,
     "metadata": {},
     "output_type": "execute_result"
    }
   ],
   "source": [
    "df.corr()['Year'].sort_values(ascending=False)"
   ]
  },
  {
   "cell_type": "code",
   "execution_count": 339,
   "metadata": {},
   "outputs": [
    {
     "name": "stderr",
     "output_type": "stream",
     "text": [
      "/home/daz/anaconda3/lib/python3.7/site-packages/scipy/stats/stats.py:1713: FutureWarning: Using a non-tuple sequence for multidimensional indexing is deprecated; use `arr[tuple(seq)]` instead of `arr[seq]`. In the future this will be interpreted as an array index, `arr[np.array(seq)]`, which will result either in an error or a different result.\n",
      "  return np.add.reduce(sorted[indexer] * weights, axis=axis) / sumval\n"
     ]
    },
    {
     "data": {
      "text/plain": [
       "<seaborn.axisgrid.FacetGrid at 0x7f6d67d20748>"
      ]
     },
     "execution_count": 339,
     "metadata": {},
     "output_type": "execute_result"
    },
    {
     "data": {
      "image/png": "[encoded data removed]",
      "text/plain": [
       "<Figure size 540x360 with 1 Axes>"
      ]
     },
     "metadata": {
      "needs_background": "light"
     },
     "output_type": "display_data"
    }
   ],
   "source": [
    "sns.lmplot(x='Year', y='Unrounded_Highway_MPG_FT1', data=df, aspect=1.5, scatter_kws={'alpha':0.2})"
   ]
  },
  {
   "cell_type": "code",
   "execution_count": 340,
   "metadata": {},
   "outputs": [
    {
     "name": "stdout",
     "output_type": "stream",
     "text": [
      "Unrounded_City_MPG_FT1 0.9989634977289886\n",
      "Unrounded_City_MPG_FT1               1.000000\n",
      "Unrounded_Combined_MPG_FT1           0.998963\n",
      "Unrounded_Highway_MPG_FT1            0.994001\n",
      "Year                                 0.841566\n",
      "Vehicle_ID                           0.813379\n",
      "Tailpipe_CO2_FT1                     0.775907\n",
      "Fuel_Type_Num                        0.399194\n",
      "Unadjusted_Highway_MPG_FT1           0.397845\n",
      "Highway_MPG_FT1                      0.378972\n",
      "Combined_MPG_FT1                     0.342873\n",
      "Unrounded_Highway_MPG_FT2            0.331501\n",
      "Fuel_Type_1_Num                      0.331366\n",
      "Unrounded_Combined_MPG_FT2           0.317169\n",
      "Unadjusted_City_MPG_FT1              0.316941\n",
      "City_MPG_FT1                         0.311878\n",
      "Unrounded_City_MPG_FT2               0.304481\n",
      "Unadjusted_Highway_MPG_FT2           0.285039\n",
      "Highway_MPG_FT2                      0.281108\n",
      "Combined_MPG_FT2                     0.275748\n",
      "City_MPG_FT2                         0.269072\n",
      "Unadjusted_City_MPG_FT2              0.266041\n",
      "GHG_Score_Alt_Fuel                   0.242566\n",
      "Tailpipe_CO2_FT2                     0.214489\n",
      "Save_or_Spend_5_Year                 0.203042\n",
      "Composite_Combined_MPG               0.189864\n",
      "Composite_Highway_MPG                0.189570\n",
      "Composite_City_MPG                   0.189229\n",
      "City_Utility_Factor                  0.180457\n",
      "Combined_Utility_Factor              0.179406\n",
      "Annual_Consumption_in_Barrels_FT2    0.179393\n",
      "Highway_Utility_Factor               0.177699\n",
      "Highway_Electricity_Consumption      0.168532\n",
      "Hours_to_Charge_240V                 0.168345\n",
      "Combined_Electricity_Consumption     0.164207\n",
      "Annual_Fuel_Cost_FT2                 0.162055\n",
      "City_Electricity_Consumption         0.160489\n",
      "Highway_Range_FT2                    0.159557\n",
      "City_Range_FT2                       0.159377\n",
      "Tailpipe_CO2_in_Grams/Mile_FT2       0.159041\n",
      "4D_Passenger_Volume                  0.067574\n",
      "City_Gasoline_Consumption_CD         0.027847\n",
      "Combined_Gasoline_Consumption_CD     0.023645\n",
      "Highway_Gasoline_Consumption_CD      0.015909\n",
      "4D_Luggage_Volume                    0.000039\n",
      "2D_Passenger_Volume                 -0.002005\n",
      "Engine_Cylinders                    -0.032975\n",
      "2D_Luggage_Volume                   -0.037919\n",
      "Hatchback_Luggage_Volume            -0.041066\n",
      "Hatchback_Passenger_Volume          -0.052074\n",
      "Engine_Displacement                 -0.075974\n",
      "Annual_Fuel_Cost_FT1                -0.199983\n",
      "Annual_Consumption_in_Barrels_FT1   -0.316664\n",
      "Tailpipe_CO2_in_Grams/Mile_FT1      -0.322468\n",
      "Engine_Index                        -0.342036\n",
      "Hours_to_Charge_120V                      NaN\n",
      "Hours_to_Charge_AC_240V                   NaN\n",
      "Range_FT1                                 NaN\n",
      "City_Range_FT1                            NaN\n",
      "Highway_Range_FT1                         NaN\n",
      "Name: Unrounded_City_MPG_FT1, dtype: float64\n"
     ]
    }
   ],
   "source": [
    "results = df.corr()\n",
    "top_result = 0\n",
    "top_feature = \"\"\n",
    "for line in results:\n",
    "    if 'MPG' in line:\n",
    "        if results[line].sort_values(ascending=False)[1] > top_result:\n",
    "            top_result = results[line].sort_values(ascending=False)[1]\n",
    "            top_feature = line\n",
    "print (top_feature, top_result)\n",
    "print (df.corr()[top_feature].sort_values(ascending=False))"
   ]
  },
  {
   "cell_type": "code",
   "execution_count": 341,
   "metadata": {},
   "outputs": [
    {
     "name": "stderr",
     "output_type": "stream",
     "text": [
      "/home/daz/anaconda3/lib/python3.7/site-packages/scipy/stats/stats.py:1713: FutureWarning: Using a non-tuple sequence for multidimensional indexing is deprecated; use `arr[tuple(seq)]` instead of `arr[seq]`. In the future this will be interpreted as an array index, `arr[np.array(seq)]`, which will result either in an error or a different result.\n",
      "  return np.add.reduce(sorted[indexer] * weights, axis=axis) / sumval\n"
     ]
    },
    {
     "data": {
      "text/plain": [
       "<seaborn.axisgrid.FacetGrid at 0x7f6d67cc0e48>"
      ]
     },
     "execution_count": 341,
     "metadata": {},
     "output_type": "execute_result"
    },
    {
     "data": {
      "image/png": "[encoded data removed]",
      "text/plain": [
       "<Figure size 540x360 with 1 Axes>"
      ]
     },
     "metadata": {
      "needs_background": "light"
     },
     "output_type": "display_data"
    }
   ],
   "source": [
    "sns.lmplot(x='Unrounded_City_MPG_FT1', y='Unrounded_Combined_MPG_FT1', data=df, aspect=1.5, scatter_kws={'alpha':0.2})"
   ]
  },
  {
   "cell_type": "code",
   "execution_count": 359,
   "metadata": {},
   "outputs": [],
   "source": [
    "test_frame = df\n",
    "y = df['Year']\n",
    "feature_cols = df.describe().columns.drop('Year').values\n",
    "test_frame.drop('Year', axis=1)\n",
    "X = df[feature_cols]"
   ]
  },
  {
   "cell_type": "code",
   "execution_count": 360,
   "metadata": {},
   "outputs": [
    {
     "data": {
      "text/plain": [
       "RandomForestRegressor(bootstrap=True, criterion='mse', max_depth=None,\n",
       "           max_features=1, max_leaf_nodes=None, min_impurity_decrease=0.0,\n",
       "           min_impurity_split=None, min_samples_leaf=1,\n",
       "           min_samples_split=2, min_weight_fraction_leaf=0.0,\n",
       "           n_estimators=500, n_jobs=1, oob_score=True, random_state=1,\n",
       "           verbose=0, warm_start=False)"
      ]
     },
     "execution_count": 360,
     "metadata": {},
     "output_type": "execute_result"
    }
   ],
   "source": [
    "rfreg = RandomForestRegressor(n_estimators=500, max_features=1, oob_score=True, random_state=1)\n",
    "rfreg.fit(X, y)"
   ]
  },
  {
   "cell_type": "code",
   "execution_count": 361,
   "metadata": {},
   "outputs": [
    {
     "data": {
      "text/html": [
       "<div>\n",
       "<style scoped>\n",
       "    .dataframe tbody tr th:only-of-type {\n",
       "        vertical-align: middle;\n",
       "    }\n",
       "\n",
       "    .dataframe tbody tr th {\n",
       "        vertical-align: top;\n",
       "    }\n",
       "\n",
       "    .dataframe thead th {\n",
       "        text-align: right;\n",
       "    }\n",
       "</style>\n",
       "<table border=\"1\" class=\"dataframe\">\n",
       "  <thead>\n",
       "    <tr style=\"text-align: right;\">\n",
       "      <th></th>\n",
       "      <th>feature</th>\n",
       "      <th>importance</th>\n",
       "    </tr>\n",
       "  </thead>\n",
       "  <tbody>\n",
       "    <tr>\n",
       "      <th>0</th>\n",
       "      <td>Vehicle_ID</td>\n",
       "      <td>0.163081</td>\n",
       "    </tr>\n",
       "    <tr>\n",
       "      <th>1</th>\n",
       "      <td>Engine_Index</td>\n",
       "      <td>0.130160</td>\n",
       "    </tr>\n",
       "    <tr>\n",
       "      <th>23</th>\n",
       "      <td>Unrounded_Combined_MPG_FT1</td>\n",
       "      <td>0.102706</td>\n",
       "    </tr>\n",
       "    <tr>\n",
       "      <th>12</th>\n",
       "      <td>Unrounded_Highway_MPG_FT1</td>\n",
       "      <td>0.094130</td>\n",
       "    </tr>\n",
       "    <tr>\n",
       "      <th>5</th>\n",
       "      <td>Unrounded_City_MPG_FT1</td>\n",
       "      <td>0.090607</td>\n",
       "    </tr>\n",
       "    <tr>\n",
       "      <th>34</th>\n",
       "      <td>Tailpipe_CO2_FT1</td>\n",
       "      <td>0.084536</td>\n",
       "    </tr>\n",
       "    <tr>\n",
       "      <th>56</th>\n",
       "      <td>Fuel_Type_Num</td>\n",
       "      <td>0.036106</td>\n",
       "    </tr>\n",
       "    <tr>\n",
       "      <th>57</th>\n",
       "      <td>Fuel_Type_1_Num</td>\n",
       "      <td>0.025411</td>\n",
       "    </tr>\n",
       "    <tr>\n",
       "      <th>3</th>\n",
       "      <td>Engine_Displacement</td>\n",
       "      <td>0.023546</td>\n",
       "    </tr>\n",
       "    <tr>\n",
       "      <th>19</th>\n",
       "      <td>Unadjusted_Highway_MPG_FT1</td>\n",
       "      <td>0.021795</td>\n",
       "    </tr>\n",
       "    <tr>\n",
       "      <th>18</th>\n",
       "      <td>Unadjusted_City_MPG_FT1</td>\n",
       "      <td>0.016995</td>\n",
       "    </tr>\n",
       "    <tr>\n",
       "      <th>11</th>\n",
       "      <td>Highway_MPG_FT1</td>\n",
       "      <td>0.015585</td>\n",
       "    </tr>\n",
       "    <tr>\n",
       "      <th>35</th>\n",
       "      <td>Tailpipe_CO2_in_Grams/Mile_FT1</td>\n",
       "      <td>0.014235</td>\n",
       "    </tr>\n",
       "    <tr>\n",
       "      <th>41</th>\n",
       "      <td>4D_Passenger_Volume</td>\n",
       "      <td>0.011115</td>\n",
       "    </tr>\n",
       "    <tr>\n",
       "      <th>32</th>\n",
       "      <td>Annual_Consumption_in_Barrels_FT1</td>\n",
       "      <td>0.009823</td>\n",
       "    </tr>\n",
       "    <tr>\n",
       "      <th>29</th>\n",
       "      <td>Annual_Fuel_Cost_FT1</td>\n",
       "      <td>0.009717</td>\n",
       "    </tr>\n",
       "    <tr>\n",
       "      <th>31</th>\n",
       "      <td>Save_or_Spend_5_Year</td>\n",
       "      <td>0.009618</td>\n",
       "    </tr>\n",
       "    <tr>\n",
       "      <th>4</th>\n",
       "      <td>City_MPG_FT1</td>\n",
       "      <td>0.009208</td>\n",
       "    </tr>\n",
       "    <tr>\n",
       "      <th>22</th>\n",
       "      <td>Combined_MPG_FT1</td>\n",
       "      <td>0.008850</td>\n",
       "    </tr>\n",
       "    <tr>\n",
       "      <th>2</th>\n",
       "      <td>Engine_Cylinders</td>\n",
       "      <td>0.008588</td>\n",
       "    </tr>\n",
       "    <tr>\n",
       "      <th>24</th>\n",
       "      <td>Combined_MPG_FT2</td>\n",
       "      <td>0.008059</td>\n",
       "    </tr>\n",
       "    <tr>\n",
       "      <th>13</th>\n",
       "      <td>Highway_MPG_FT2</td>\n",
       "      <td>0.008006</td>\n",
       "    </tr>\n",
       "    <tr>\n",
       "      <th>33</th>\n",
       "      <td>Annual_Consumption_in_Barrels_FT2</td>\n",
       "      <td>0.007836</td>\n",
       "    </tr>\n",
       "    <tr>\n",
       "      <th>42</th>\n",
       "      <td>4D_Luggage_Volume</td>\n",
       "      <td>0.007531</td>\n",
       "    </tr>\n",
       "    <tr>\n",
       "      <th>21</th>\n",
       "      <td>Unadjusted_Highway_MPG_FT2</td>\n",
       "      <td>0.006989</td>\n",
       "    </tr>\n",
       "    <tr>\n",
       "      <th>20</th>\n",
       "      <td>Unadjusted_City_MPG_FT2</td>\n",
       "      <td>0.006918</td>\n",
       "    </tr>\n",
       "    <tr>\n",
       "      <th>6</th>\n",
       "      <td>City_MPG_FT2</td>\n",
       "      <td>0.006841</td>\n",
       "    </tr>\n",
       "    <tr>\n",
       "      <th>43</th>\n",
       "      <td>Hatchback_Passenger_Volume</td>\n",
       "      <td>0.006010</td>\n",
       "    </tr>\n",
       "    <tr>\n",
       "      <th>37</th>\n",
       "      <td>Tailpipe_CO2_in_Grams/Mile_FT2</td>\n",
       "      <td>0.005934</td>\n",
       "    </tr>\n",
       "    <tr>\n",
       "      <th>7</th>\n",
       "      <td>Unrounded_City_MPG_FT2</td>\n",
       "      <td>0.005911</td>\n",
       "    </tr>\n",
       "    <tr>\n",
       "      <th>40</th>\n",
       "      <td>2D_Luggage_Volume</td>\n",
       "      <td>0.005867</td>\n",
       "    </tr>\n",
       "    <tr>\n",
       "      <th>44</th>\n",
       "      <td>Hatchback_Luggage_Volume</td>\n",
       "      <td>0.005779</td>\n",
       "    </tr>\n",
       "    <tr>\n",
       "      <th>39</th>\n",
       "      <td>2D_Passenger_Volume</td>\n",
       "      <td>0.005539</td>\n",
       "    </tr>\n",
       "    <tr>\n",
       "      <th>14</th>\n",
       "      <td>Unrounded_Highway_MPG_FT2</td>\n",
       "      <td>0.005408</td>\n",
       "    </tr>\n",
       "    <tr>\n",
       "      <th>30</th>\n",
       "      <td>Annual_Fuel_Cost_FT2</td>\n",
       "      <td>0.005354</td>\n",
       "    </tr>\n",
       "    <tr>\n",
       "      <th>25</th>\n",
       "      <td>Unrounded_Combined_MPG_FT2</td>\n",
       "      <td>0.005208</td>\n",
       "    </tr>\n",
       "    <tr>\n",
       "      <th>38</th>\n",
       "      <td>GHG_Score_Alt_Fuel</td>\n",
       "      <td>0.004157</td>\n",
       "    </tr>\n",
       "    <tr>\n",
       "      <th>36</th>\n",
       "      <td>Tailpipe_CO2_FT2</td>\n",
       "      <td>0.003517</td>\n",
       "    </tr>\n",
       "    <tr>\n",
       "      <th>46</th>\n",
       "      <td>Hours_to_Charge_240V</td>\n",
       "      <td>0.000413</td>\n",
       "    </tr>\n",
       "    <tr>\n",
       "      <th>55</th>\n",
       "      <td>Highway_Range_FT2</td>\n",
       "      <td>0.000307</td>\n",
       "    </tr>\n",
       "    <tr>\n",
       "      <th>50</th>\n",
       "      <td>Composite_Combined_MPG</td>\n",
       "      <td>0.000295</td>\n",
       "    </tr>\n",
       "    <tr>\n",
       "      <th>54</th>\n",
       "      <td>City_Range_FT2</td>\n",
       "      <td>0.000292</td>\n",
       "    </tr>\n",
       "    <tr>\n",
       "      <th>9</th>\n",
       "      <td>City_Electricity_Consumption</td>\n",
       "      <td>0.000279</td>\n",
       "    </tr>\n",
       "    <tr>\n",
       "      <th>28</th>\n",
       "      <td>Combined_Utility_Factor</td>\n",
       "      <td>0.000252</td>\n",
       "    </tr>\n",
       "    <tr>\n",
       "      <th>26</th>\n",
       "      <td>Combined_Electricity_Consumption</td>\n",
       "      <td>0.000242</td>\n",
       "    </tr>\n",
       "    <tr>\n",
       "      <th>48</th>\n",
       "      <td>Composite_City_MPG</td>\n",
       "      <td>0.000223</td>\n",
       "    </tr>\n",
       "    <tr>\n",
       "      <th>10</th>\n",
       "      <td>City_Utility_Factor</td>\n",
       "      <td>0.000212</td>\n",
       "    </tr>\n",
       "    <tr>\n",
       "      <th>16</th>\n",
       "      <td>Highway_Electricity_Consumption</td>\n",
       "      <td>0.000190</td>\n",
       "    </tr>\n",
       "    <tr>\n",
       "      <th>17</th>\n",
       "      <td>Highway_Utility_Factor</td>\n",
       "      <td>0.000182</td>\n",
       "    </tr>\n",
       "    <tr>\n",
       "      <th>49</th>\n",
       "      <td>Composite_Highway_MPG</td>\n",
       "      <td>0.000170</td>\n",
       "    </tr>\n",
       "    <tr>\n",
       "      <th>27</th>\n",
       "      <td>Combined_Gasoline_Consumption_CD</td>\n",
       "      <td>0.000150</td>\n",
       "    </tr>\n",
       "    <tr>\n",
       "      <th>8</th>\n",
       "      <td>City_Gasoline_Consumption_CD</td>\n",
       "      <td>0.000085</td>\n",
       "    </tr>\n",
       "    <tr>\n",
       "      <th>15</th>\n",
       "      <td>Highway_Gasoline_Consumption_CD</td>\n",
       "      <td>0.000029</td>\n",
       "    </tr>\n",
       "    <tr>\n",
       "      <th>47</th>\n",
       "      <td>Hours_to_Charge_AC_240V</td>\n",
       "      <td>0.000000</td>\n",
       "    </tr>\n",
       "    <tr>\n",
       "      <th>51</th>\n",
       "      <td>Range_FT1</td>\n",
       "      <td>0.000000</td>\n",
       "    </tr>\n",
       "    <tr>\n",
       "      <th>52</th>\n",
       "      <td>City_Range_FT1</td>\n",
       "      <td>0.000000</td>\n",
       "    </tr>\n",
       "    <tr>\n",
       "      <th>53</th>\n",
       "      <td>Highway_Range_FT1</td>\n",
       "      <td>0.000000</td>\n",
       "    </tr>\n",
       "    <tr>\n",
       "      <th>45</th>\n",
       "      <td>Hours_to_Charge_120V</td>\n",
       "      <td>0.000000</td>\n",
       "    </tr>\n",
       "  </tbody>\n",
       "</table>\n",
       "</div>"
      ],
      "text/plain": [
       "                              feature  importance\n",
       "0                          Vehicle_ID    0.163081\n",
       "1                        Engine_Index    0.130160\n",
       "23         Unrounded_Combined_MPG_FT1    0.102706\n",
       "12          Unrounded_Highway_MPG_FT1    0.094130\n",
       "5              Unrounded_City_MPG_FT1    0.090607\n",
       "34                   Tailpipe_CO2_FT1    0.084536\n",
       "56                      Fuel_Type_Num    0.036106\n",
       "57                    Fuel_Type_1_Num    0.025411\n",
       "3                 Engine_Displacement    0.023546\n",
       "19         Unadjusted_Highway_MPG_FT1    0.021795\n",
       "18            Unadjusted_City_MPG_FT1    0.016995\n",
       "11                    Highway_MPG_FT1    0.015585\n",
       "35     Tailpipe_CO2_in_Grams/Mile_FT1    0.014235\n",
       "41                4D_Passenger_Volume    0.011115\n",
       "32  Annual_Consumption_in_Barrels_FT1    0.009823\n",
       "29               Annual_Fuel_Cost_FT1    0.009717\n",
       "31               Save_or_Spend_5_Year    0.009618\n",
       "4                        City_MPG_FT1    0.009208\n",
       "22                   Combined_MPG_FT1    0.008850\n",
       "2                    Engine_Cylinders    0.008588\n",
       "24                   Combined_MPG_FT2    0.008059\n",
       "13                    Highway_MPG_FT2    0.008006\n",
       "33  Annual_Consumption_in_Barrels_FT2    0.007836\n",
       "42                  4D_Luggage_Volume    0.007531\n",
       "21         Unadjusted_Highway_MPG_FT2    0.006989\n",
       "20            Unadjusted_City_MPG_FT2    0.006918\n",
       "6                        City_MPG_FT2    0.006841\n",
       "43         Hatchback_Passenger_Volume    0.006010\n",
       "37     Tailpipe_CO2_in_Grams/Mile_FT2    0.005934\n",
       "7              Unrounded_City_MPG_FT2    0.005911\n",
       "40                  2D_Luggage_Volume    0.005867\n",
       "44           Hatchback_Luggage_Volume    0.005779\n",
       "39                2D_Passenger_Volume    0.005539\n",
       "14          Unrounded_Highway_MPG_FT2    0.005408\n",
       "30               Annual_Fuel_Cost_FT2    0.005354\n",
       "25         Unrounded_Combined_MPG_FT2    0.005208\n",
       "38                 GHG_Score_Alt_Fuel    0.004157\n",
       "36                   Tailpipe_CO2_FT2    0.003517\n",
       "46               Hours_to_Charge_240V    0.000413\n",
       "55                  Highway_Range_FT2    0.000307\n",
       "50             Composite_Combined_MPG    0.000295\n",
       "54                     City_Range_FT2    0.000292\n",
       "9        City_Electricity_Consumption    0.000279\n",
       "28            Combined_Utility_Factor    0.000252\n",
       "26   Combined_Electricity_Consumption    0.000242\n",
       "48                 Composite_City_MPG    0.000223\n",
       "10                City_Utility_Factor    0.000212\n",
       "16    Highway_Electricity_Consumption    0.000190\n",
       "17             Highway_Utility_Factor    0.000182\n",
       "49              Composite_Highway_MPG    0.000170\n",
       "27   Combined_Gasoline_Consumption_CD    0.000150\n",
       "8        City_Gasoline_Consumption_CD    0.000085\n",
       "15    Highway_Gasoline_Consumption_CD    0.000029\n",
       "47            Hours_to_Charge_AC_240V    0.000000\n",
       "51                          Range_FT1    0.000000\n",
       "52                     City_Range_FT1    0.000000\n",
       "53                  Highway_Range_FT1    0.000000\n",
       "45               Hours_to_Charge_120V    0.000000"
      ]
     },
     "execution_count": 361,
     "metadata": {},
     "output_type": "execute_result"
    }
   ],
   "source": [
    "pd.DataFrame({'feature':feature_cols, 'importance':rfreg.feature_importances_}).sort_values(by='importance',ascending=False)"
   ]
  },
  {
   "cell_type": "code",
   "execution_count": 362,
   "metadata": {},
   "outputs": [],
   "source": [
    "lr = LinearRegression()\n",
    "feature_cols = ['Year']\n",
    "X = df[feature_cols]\n",
    "y = df.Unrounded_Combined_MPG_FT1"
   ]
  },
  {
   "cell_type": "code",
   "execution_count": 363,
   "metadata": {},
   "outputs": [
    {
     "data": {
      "text/plain": [
       "LinearRegression(copy_X=True, fit_intercept=True, n_jobs=1, normalize=False)"
      ]
     },
     "execution_count": 363,
     "metadata": {},
     "output_type": "execute_result"
    }
   ],
   "source": [
    "lr.fit(X, y)"
   ]
  },
  {
   "cell_type": "code",
   "execution_count": 364,
   "metadata": {},
   "outputs": [
    {
     "data": {
      "text/plain": [
       "array([21.18773913])"
      ]
     },
     "execution_count": 364,
     "metadata": {},
     "output_type": "execute_result"
    }
   ],
   "source": [
    "lr.predict([[2019]])"
   ]
  },
  {
   "cell_type": "code",
   "execution_count": 365,
   "metadata": {},
   "outputs": [
    {
     "name": "stderr",
     "output_type": "stream",
     "text": [
      "/home/daz/anaconda3/lib/python3.7/site-packages/scipy/stats/stats.py:1713: FutureWarning: Using a non-tuple sequence for multidimensional indexing is deprecated; use `arr[tuple(seq)]` instead of `arr[seq]`. In the future this will be interpreted as an array index, `arr[np.array(seq)]`, which will result either in an error or a different result.\n",
      "  return np.add.reduce(sorted[indexer] * weights, axis=axis) / sumval\n"
     ]
    },
    {
     "data": {
      "text/plain": [
       "<seaborn.axisgrid.FacetGrid at 0x7f6d67aeae10>"
      ]
     },
     "execution_count": 365,
     "metadata": {},
     "output_type": "execute_result"
    },
    {
     "data": {
      "image/png": "[encoded data removed]",
      "text/plain": [
       "<Figure size 540x360 with 1 Axes>"
      ]
     },
     "metadata": {
      "needs_background": "light"
     },
     "output_type": "display_data"
    }
   ],
   "source": [
    "sns.lmplot(x='Year', y='Unrounded_Combined_MPG_FT1', data=df, aspect=1.5, scatter_kws={'alpha':0.2})Unrounded_Highway_MPG_FT1"
   ]
  }
 ],
 "metadata": {
  "kernelspec": {
   "display_name": "Python 3",
   "language": "python",
   "name": "python3"
  },
  "language_info": {
   "codemirror_mode": {
    "name": "ipython",
    "version": 3
   },
   "file_extension": ".py",
   "mimetype": "text/x-python",
   "name": "python",
   "nbconvert_exporter": "python",
   "pygments_lexer": "ipython3",
   "version": "3.7.0"
  }
 },
 "nbformat": 4,
 "nbformat_minor": 2
}
